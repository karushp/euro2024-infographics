{
 "cells": [
  {
   "cell_type": "code",
   "execution_count": 2,
   "metadata": {},
   "outputs": [],
   "source": [
    "import pandas as pd\n",
    "import numpy as np\n",
    "import seaborn as sns\n",
    "import matplotlib.pyplot as plt"
   ]
  },
  {
   "cell_type": "code",
   "execution_count": 4,
   "metadata": {},
   "outputs": [],
   "source": [
    "stats_df = pd.read_csv('/home/karush/code/karushp/practice/euro-data/euro2024-infographics/data/international-fifa-world-cup-2014-brazil-teams-2014-to-2014-stats.csv')"
   ]
  },
  {
   "cell_type": "code",
   "execution_count": 5,
   "metadata": {},
   "outputs": [
    {
     "data": {
      "text/plain": [
       "(32, 293)"
      ]
     },
     "execution_count": 5,
     "metadata": {},
     "output_type": "execute_result"
    }
   ],
   "source": [
    "matches_df = pd.read_csv('/home/karush/code/karushp/practice/euro-data/euro2024-infographics/data/international-fifa-world-cup-2014-brazil-teams-2014-to-2014-stats.csv')\n",
    "matches_df.shape"
   ]
  },
  {
   "cell_type": "code",
   "execution_count": 6,
   "metadata": {},
   "outputs": [
    {
     "data": {
      "text/plain": [
       "array(['Switzerland', 'Spain', 'Portugal', 'Germany', 'England', 'Greece',\n",
       "       'Italy', 'Belgium', 'Netherlands', 'France', 'Croatia',\n",
       "       'Bosnia and Herzegovina', 'Japan', 'Australia', 'Iran',\n",
       "       'South Korea', 'Ivory Coast', 'Argentina', 'Russia', 'Uruguay',\n",
       "       'Ecuador', 'Ghana', 'Brazil', 'Nigeria', 'USA', 'Honduras',\n",
       "       'Cameroon', 'Mexico', 'Algeria', 'Chile', 'Colombia', 'Costa Rica'],\n",
       "      dtype=object)"
      ]
     },
     "execution_count": 6,
     "metadata": {},
     "output_type": "execute_result"
    }
   ],
   "source": [
    "matches_df['country'].unique()"
   ]
  },
  {
   "cell_type": "code",
   "execution_count": 7,
   "metadata": {},
   "outputs": [
    {
     "data": {
      "text/plain": [
       "(32, 293)"
      ]
     },
     "execution_count": 7,
     "metadata": {},
     "output_type": "execute_result"
    }
   ],
   "source": [
    "matches_df.shape"
   ]
  },
  {
   "cell_type": "code",
   "execution_count": 6,
   "metadata": {},
   "outputs": [
    {
     "data": {
      "text/html": [
       "<div>\n",
       "<style scoped>\n",
       "    .dataframe tbody tr th:only-of-type {\n",
       "        vertical-align: middle;\n",
       "    }\n",
       "\n",
       "    .dataframe tbody tr th {\n",
       "        vertical-align: top;\n",
       "    }\n",
       "\n",
       "    .dataframe thead th {\n",
       "        text-align: right;\n",
       "    }\n",
       "</style>\n",
       "<table border=\"1\" class=\"dataframe\">\n",
       "  <thead>\n",
       "    <tr style=\"text-align: right;\">\n",
       "      <th></th>\n",
       "      <th>country</th>\n",
       "      <th>win_percentage</th>\n",
       "      <th>draw_percentage_overall</th>\n",
       "      <th>loss_percentage_ovearll</th>\n",
       "    </tr>\n",
       "  </thead>\n",
       "  <tbody>\n",
       "    <tr>\n",
       "      <th>0</th>\n",
       "      <td>Switzerland</td>\n",
       "      <td>50</td>\n",
       "      <td>0</td>\n",
       "      <td>50</td>\n",
       "    </tr>\n",
       "    <tr>\n",
       "      <th>1</th>\n",
       "      <td>Spain</td>\n",
       "      <td>33</td>\n",
       "      <td>0</td>\n",
       "      <td>67</td>\n",
       "    </tr>\n",
       "    <tr>\n",
       "      <th>2</th>\n",
       "      <td>Portugal</td>\n",
       "      <td>33</td>\n",
       "      <td>33</td>\n",
       "      <td>33</td>\n",
       "    </tr>\n",
       "    <tr>\n",
       "      <th>3</th>\n",
       "      <td>Germany</td>\n",
       "      <td>86</td>\n",
       "      <td>14</td>\n",
       "      <td>0</td>\n",
       "    </tr>\n",
       "    <tr>\n",
       "      <th>4</th>\n",
       "      <td>England</td>\n",
       "      <td>0</td>\n",
       "      <td>33</td>\n",
       "      <td>67</td>\n",
       "    </tr>\n",
       "  </tbody>\n",
       "</table>\n",
       "</div>"
      ],
      "text/plain": [
       "       country  win_percentage  draw_percentage_overall  \\\n",
       "0  Switzerland              50                        0   \n",
       "1        Spain              33                        0   \n",
       "2     Portugal              33                       33   \n",
       "3      Germany              86                       14   \n",
       "4      England               0                       33   \n",
       "\n",
       "   loss_percentage_ovearll  \n",
       "0                       50  \n",
       "1                       67  \n",
       "2                       33  \n",
       "3                        0  \n",
       "4                       67  "
      ]
     },
     "execution_count": 6,
     "metadata": {},
     "output_type": "execute_result"
    }
   ],
   "source": [
    "filter_df= matches_df[['country','win_percentage','draw_percentage_overall','loss_percentage_ovearll']]\n",
    "\n",
    "filter_df.head()"
   ]
  },
  {
   "cell_type": "code",
   "execution_count": 14,
   "metadata": {},
   "outputs": [],
   "source": [
    "# Function to filter and plot data for a specific country\n",
    "def plot_country_performance(country):\n",
    "    # Filter the DataFrame for the specific country\n",
    "    country_data = filter_df[filter_df['country'] == country]\n",
    "\n",
    "    if country_data.empty:\n",
    "        print(f\"No data available for {country}\")\n",
    "        return\n",
    "\n",
    "    # Extract percentages\n",
    "    percentages = country_data[['win_percentage', 'loss_percentage_ovearll', 'draw_percentage_overall']].values.flatten()\n",
    "\n",
    "    # Define labels for the bars\n",
    "    labels = ['Win', 'Lose', 'Draw']\n",
    "\n",
    "    # Create the bar plot\n",
    "    plt.figure(figsize=(8, 5))\n",
    "    plt.bar(labels, percentages, color=['green', 'red', 'blue'])\n",
    "\n",
    "    # Add title and labels\n",
    "    plt.title(f'World cup 2014 performance of {country}')\n",
    "    plt.ylabel('Percentage')\n",
    "    plt.xlabel('Outcome')\n",
    "\n",
    "    # Show the plot\n",
    "    plt.show()\n"
   ]
  },
  {
   "cell_type": "code",
   "execution_count": 13,
   "metadata": {},
   "outputs": [
    {
     "data": {
      "image/png": "[encoded data removed]",
      "text/plain": [
       "<Figure size 800x500 with 1 Axes>"
      ]
     },
     "metadata": {},
     "output_type": "display_data"
    }
   ],
   "source": [
    "# Usage\n",
    "plot_country_performance('France')"
   ]
  }
 ],
 "metadata": {
  "kernelspec": {
   "display_name": "euro24",
   "language": "python",
   "name": "python3"
  },
  "language_info": {
   "codemirror_mode": {
    "name": "ipython",
    "version": 3
   },
   "file_extension": ".py",
   "mimetype": "text/x-python",
   "name": "python",
   "nbconvert_exporter": "python",
   "pygments_lexer": "ipython3",
   "version": "3.10.6"
  }
 },
 "nbformat": 4,
 "nbformat_minor": 2
}
